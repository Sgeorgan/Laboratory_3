{
 "cells": [
  {
   "cell_type": "markdown",
   "id": "288fb43e",
   "metadata": {},
   "source": [
    "## Assignment 2 - Classifying temperatures \n",
    "\n",
    "### Overview\n",
    "\n",
    "This problem is designed to introduce you to the very common and useful concept of data classification.\n",
    "In this problem your aim is to classify daily temperatures (in degrees Celsius) stored in the `temperatures` list into four different classes:\n",
    "\n",
    "- **Cold**: Temperatures of less than -2 degrees\n",
    "- **Slippery**: Temperatures equal to or warmer than -2 degrees, but less than +2 degrees\n",
    "- **Comfortable**: Temperatures equal to or warmer than +2 degrees, but less than +15 degrees\n",
    "- **Warm**: Temperatures equal to or warmer than +15 degrees\n",
    "\n",
    "To solve this problem, you should modify and fill in the missing parts in the following cells.\n",
    "\n"
   ]
  },
  {
   "cell_type": "markdown",
   "id": "ae1c5da0",
   "metadata": {},
   "source": [
    "## Data description\n",
    "\n",
    "The data for this problem comprise a list of night-time, daytime and evening temperatures for April 2013 recorded at the Arlanda Airport. The list contains 90 values since there are 3 values for each day (and April has 30 days). The first value of a given day represents night, the second one is for the daytime, and the third one is for the evening temperature."
   ]
  },
  {
   "cell_type": "code",
   "execution_count": null,
   "id": "2e626f9a",
   "metadata": {},
   "outputs": [],
   "source": [
    "temperatures = [-5.4, 1.0, -1.3, -4.8, 3.9, 0.1, -4.4, 4.0, -2.2, -3.9, 4.4,\n",
    "                -2.5, -4.6, 5.1, 2.1, -2.4, 1.9, -3.3, -4.8, 1.0, -0.8, -2.8,\n",
    "                -0.1, -4.7, -5.6, 2.6, -2.7, -4.6, 3.4, -0.4, -0.9, 3.1, 2.4,\n",
    "                1.6, 4.2, 3.5, 2.6, 3.1, 2.2, 1.8, 3.3, 1.6, 1.5, 4.7, 4.0,\n",
    "                3.6, 4.9, 4.8, 5.3, 5.6, 4.1, 3.7, 7.6, 6.9, 5.1, 6.4, 3.8,\n",
    "                4.0, 8.6, 4.1, 1.4, 8.9, 3.0, 1.6, 8.5, 4.7, 6.6, 8.1, 4.5,\n",
    "                4.8, 11.3, 4.7, 5.2, 11.5, 6.2, 2.9, 4.3, 2.8, 2.8, 6.3, 2.6,\n",
    "                -0.0, 7.3, 3.4, 4.7, 9.3, 6.4, 5.4, 7.6, 5.2]"
   ]
  },
  {
   "cell_type": "markdown",
   "id": "e5c35d5f",
   "metadata": {},
   "source": [
    " Create four empty lists for the different temperature classes:\n",
    "\n",
    "    - `cold`\n",
    "    - `slippery`\n",
    "    - `comfortable`\n",
    "    - `warm`\n",
    "  \n",
    "Be sure to use these **exact** names for your lists."
   ]
  },
  {
   "cell_type": "code",
   "execution_count": null,
   "id": "60aaeaac",
   "metadata": {},
   "outputs": [],
   "source": [
    "# YOUR CODE HERE\n"
   ]
  },
  {
   "cell_type": "code",
   "execution_count": null,
   "id": "426fcc24",
   "metadata": {},
   "outputs": [],
   "source": [
    "# Test print for all lists (they should be empty at this point)\n",
    "print(cold, slippery, comfortable, warm)"
   ]
  },
  {
   "cell_type": "markdown",
   "id": "9b090f72",
   "metadata": {},
   "source": [
    "Iterate over the temperatures and add temperatures to the different temperature classes defined below:\n",
    "\n",
    "- **Cold**: Temperatures of less than -2 degrees\n",
    "- **Slippery**: Temperatures equal to or warmer than -2 degrees, but less than +2 degrees\n",
    "- **Comfortable**: Temperatures equal to or warmer than +2 degrees, but less than +15 degrees\n",
    "- **Warm**: Temperatures equal to or warmer than +15 degrees"
   ]
  },
  {
   "cell_type": "code",
   "execution_count": null,
   "id": "59cb6249",
   "metadata": {},
   "outputs": [],
   "source": [
    "# YOUR CODE HERE\n"
   ]
  },
  {
   "cell_type": "code",
   "execution_count": null,
   "id": "e1b708a4",
   "metadata": {},
   "outputs": [],
   "source": [
    "# Test prints for all lists (now they should contain values)\n",
    "print(cold, slippery, comfortable, warm)\n"
   ]
  },
  {
   "cell_type": "markdown",
   "id": "f7b299dc",
   "metadata": {},
   "source": [
    "\n",
    "Please answer the following questions by modifying the Python cells below:\n",
    "\n",
    "- How many times was it slippery during the study period?"
   ]
  },
  {
   "cell_type": "code",
   "execution_count": null,
   "id": "f9ffda34",
   "metadata": {},
   "outputs": [],
   "source": [
    "# Edit the variable to find correct answer\n",
    "slippery_times = 'XXX'\n",
    "\n",
    "# YOUR CODE HERE\n"
   ]
  },
  {
   "cell_type": "code",
   "execution_count": null,
   "id": "0b47abcd",
   "metadata": {},
   "outputs": [],
   "source": [
    "# Print the answer\n",
    "print(f\"In April 2013 it was slippery {slippery_times} times.\")"
   ]
  },
  {
   "cell_type": "markdown",
   "id": "f3dead82",
   "metadata": {},
   "source": [
    "\n",
    "- How many times was it warm during the study period?"
   ]
  },
  {
   "cell_type": "code",
   "execution_count": null,
   "id": "fd350aad",
   "metadata": {},
   "outputs": [],
   "source": [
    "# Edit the variable to find correct answer\n",
    "warm_times = 'XXX'\n",
    "\n",
    "# YOUR CODE HERE\n"
   ]
  },
  {
   "cell_type": "code",
   "execution_count": null,
   "id": "6113a133",
   "metadata": {},
   "outputs": [],
   "source": [
    "# Print the answer\n",
    "print(f\"In April 2013 it was warm {warm_times} times.\")"
   ]
  },
  {
   "cell_type": "markdown",
   "id": "c99fbeaa",
   "metadata": {},
   "source": [
    "- How many times was it cold during the study period?"
   ]
  },
  {
   "cell_type": "code",
   "execution_count": null,
   "id": "f368d257",
   "metadata": {},
   "outputs": [],
   "source": [
    "# Edit the variable to find correct answer\n",
    "cold_times = 'XXX'\n",
    "\n",
    "# YOUR CODE HERE\n"
   ]
  },
  {
   "cell_type": "code",
   "execution_count": null,
   "id": "d88477a9",
   "metadata": {},
   "outputs": [],
   "source": [
    "# Print the answer\n",
    "print(f\"In April 2013 it was cold {cold_times} times.\")"
   ]
  },
  {
   "cell_type": "markdown",
   "id": "425905a9",
   "metadata": {},
   "source": [
    "\n",
    "Here, we ask a few questions to make sure you have understood the concepts in this problem. Answer shortly in a few sentences using the Markdown cell below.\n",
    "\n",
    "You can also write any feedback or questions concerning this problem in this Markdown cell.\n",
    "\n",
    "1. Is the concept of conditional statements clear to you? If not, what is difficult to understand?\n",
    "2. Did you include comments in your code blocks? If not, do it now :) \n",
    "  \n",
    "Write your answers below (double click to activate and edit the cell below)."
   ]
  },
  {
   "cell_type": "markdown",
   "id": "6d1fedb3",
   "metadata": {},
   "source": [
    "YOUR ANSWER HERE"
   ]
  },
  {
   "cell_type": "markdown",
   "id": "bff67567",
   "metadata": {},
   "source": []
  },
  {
   "cell_type": "code",
   "execution_count": null,
   "id": "128fc99f",
   "metadata": {},
   "outputs": [],
   "source": []
  }
 ],
 "metadata": {
  "kernelspec": {
   "display_name": "Python 3 (ipykernel)",
   "language": "python",
   "name": "python3"
  },
  "language_info": {
   "codemirror_mode": {
    "name": "ipython",
    "version": 3
   },
   "file_extension": ".py",
   "mimetype": "text/x-python",
   "name": "python",
   "nbconvert_exporter": "python",
   "pygments_lexer": "ipython3",
   "version": "3.9.7"
  }
 },
 "nbformat": 4,
 "nbformat_minor": 5
}
